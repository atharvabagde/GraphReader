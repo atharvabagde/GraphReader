{
 "cells": [
  {
   "cell_type": "code",
   "execution_count": 3,
   "metadata": {},
   "outputs": [
    {
     "name": "stdout",
     "output_type": "stream",
     "text": [
      "Obtaining file:///C:/Users/Sushant/Desktop/Graphreader/Package\n",
      "  Preparing metadata (setup.py): started\n",
      "  Preparing metadata (setup.py): finished with status 'done'\n",
      "Installing collected packages: graphreader\n",
      "  Attempting uninstall: graphreader\n",
      "    Found existing installation: graphreader 0.0.1\n",
      "    Can't uninstall 'graphreader'. No files were found to uninstall.\n",
      "  Running setup.py develop for graphreader\n",
      "Successfully installed graphreader-0.0.1\n"
     ]
    },
    {
     "name": "stderr",
     "output_type": "stream",
     "text": [
      "  DEPRECATION: Legacy editable install of graphreader==0.0.1 from file:///C:/Users/Sushant/Desktop/Graphreader/Package (setup.py develop) is deprecated. pip 25.0 will enforce this behaviour change. A possible replacement is to add a pyproject.toml or enable --use-pep517, and use setuptools >= 64. If the resulting installation is not behaving as expected, try using --config-settings editable_mode=compat. Please consult the setuptools documentation for more information. Discussion can be found at https://github.com/pypa/pip/issues/11457\n"
     ]
    }
   ],
   "source": [
    "!pip install -e ."
   ]
  },
  {
   "cell_type": "code",
   "execution_count": 1,
   "metadata": {},
   "outputs": [
    {
     "name": "stderr",
     "output_type": "stream",
     "text": [
      "[nltk_data] Downloading package wordnet to\n",
      "[nltk_data]     C:\\Users\\Sushant\\AppData\\Roaming\\nltk_data...\n",
      "[nltk_data]   Package wordnet is already up-to-date!\n",
      "c:\\Users\\Sushant\\anaconda3\\envs\\graphreader\\Lib\\site-packages\\sentence_transformers\\cross_encoder\\CrossEncoder.py:13: TqdmWarning: IProgress not found. Please update jupyter and ipywidgets. See https://ipywidgets.readthedocs.io/en/stable/user_install.html\n",
      "  from tqdm.autonotebook import tqdm, trange\n"
     ]
    }
   ],
   "source": [
    "import networkx as nx\n",
    "from graphreader.document import Document\n",
    "from graphreader.graph_class import Graph\n",
    "from graphreader.graph_reader import GraphReader\n"
   ]
  },
  {
   "cell_type": "code",
   "execution_count": 2,
   "metadata": {},
   "outputs": [
    {
     "name": "stderr",
     "output_type": "stream",
     "text": [
      "Ignoring wrong pointing object 7 0 (offset 0)\n",
      "Ignoring wrong pointing object 9 0 (offset 0)\n",
      "Extracting text from document: 100%|██████████| 396/396 [00:26<00:00, 14.98it/s]\n",
      "Chunking the text: 100%|██████████| 5125/5125 [00:00<00:00, 641034.44it/s]\n"
     ]
    }
   ],
   "source": [
    "file_path = 'Microsoft Word - ONE HUNDRED YEARS-MARQUEZ.doc.pdf'\n",
    "doc = Document(file_path)\n",
    "chunk_dict = doc.get_chunks(st_ind=705)\n",
    "g = Graph(chunk_dict)\n",
    "doc.export_chunks()\n",
    "g.export_graph()\n"
   ]
  },
  {
   "cell_type": "code",
   "execution_count": 2,
   "metadata": {},
   "outputs": [],
   "source": [
    "gr = nx.read_gml('graph.gml')"
   ]
  },
  {
   "cell_type": "code",
   "execution_count": 3,
   "metadata": {},
   "outputs": [
    {
     "name": "stderr",
     "output_type": "stream",
     "text": [
      "Adding vectors to Pinecone database in batch of 1000: 11it [01:05,  5.98s/it]\n"
     ]
    }
   ],
   "source": [
    "g_reader = GraphReader(graph = gr, vect_db_name= 'graph-reader-test5')"
   ]
  },
  {
   "cell_type": "code",
   "execution_count": 155,
   "metadata": {},
   "outputs": [
    {
     "name": "stderr",
     "output_type": "stream",
     "text": [
      "Error in StdOutCallbackHandler.on_chain_start callback: AttributeError(\"'NoneType' object has no attribute 'get'\")\n"
     ]
    },
    {
     "name": "stdout",
     "output_type": "stream",
     "text": [
      "\u001b[32;1m\u001b[1;3m\n",
      "Invoking: `read_node` with `{'node_name': 'husband'}`\n",
      "\n",
      "\n",
      "\u001b[0mReading atomic facts for node: husband\n",
      "\u001b[36;1m\u001b[1;3m[{'atom_fact': \"4. Úrsula gave in to her husband's obstinacy and allowed him to proceed with his experiments. \", 'chunk_id': 14}, {'atom_fact': '2. Úrsula had the same capacity for work as her husband.  9. Úrsula and her husband built the furniture themselves. ', 'chunk_id': 18}, {'atom_fact': '5. Úrsula told her husband about the episode.  6. The husband interpreted the event as a natural phenomenon.  7. The husband was alien to the existence of his sons.  8. The husband considered childhood a period of mental insufficiency.  9. The husband was absorbed in his fantastic speculations.  10. The husband called the children to help him unpack things in the laboratory.  11. Since that afternoon, the husband gave his best hours to the children. ', 'chunk_id': 33}, {'atom_fact': '6. Her husband was an Aragonese merchant.  7. Her husband and she had two children.  8. Her husband spent half the value of his store on medicines and pastimes. ', 'chunk_id': 42}, {'atom_fact': \"1. Úrsula's husband had mad ideas.  2. Úrsula would leap back over three hundred years of fate when exercised over her husband's mad ideas.  5. Úrsula and her husband were joined by a bond more solid than love: a common prick of conscience.  6. Úrsula and her husband were cousins.  7. Úrsula and her husband grew up together in the old village.  9. Úrsula and her husband's marriage was predicted from the time they were born.  10. Úrsula and her husband's own relatives tried to stop their marriage. \", 'chunk_id': 43}, {'atom_fact': '3. Úrsula feared her stout and willful husband would rape her while she slept.  7. Úrsula and her husband lived like this for several months.  8. During the day, her husband took care of his fighting cocks. ', 'chunk_id': 45}, {'atom_fact': \"6. Úrsula was aware of her husband's decision and expressed her concerns. \", 'chunk_id': 47}, {'atom_fact': '2. Úrsula and her husband were awake and frolicking in bed until dawn on a fine June night. ', 'chunk_id': 48}, {'atom_fact': '7. He was the first man that Úrsula had seen naked after her husband. ', 'chunk_id': 55}, {'atom_fact': '13. In the narrow room, there were the mother, a daughter with her husband and two children, and possibly the woman. ', 'chunk_id': 59}, {'atom_fact': '8. Úrsula shouted to her husband that José Arcadio had become a gypsy. ', 'chunk_id': 76}, {'atom_fact': '7. Úrsula had found the route that her husband had been unable to discover.  9. Úrsula admitted the child grudgingly, conquered once more by the obstinacy of her husband. ', 'chunk_id': 82}, {'atom_fact': '7. Remedios settled down with her husband in a room near the workshop. ', 'chunk_id': 195}, {'atom_fact': '1. Amaranta felt alone and sought the company of her forgotten husband under the chestnut tree.  3. June rains threatened to knock down the shelter where Amaranta and her husband were. ', 'chunk_id': 237}, {'atom_fact': \"7. The woman noticed her husband's sadness with bad news.  8. She decided to lie to her husband to console him. \", 'chunk_id': 238}, {'atom_fact': '5. Rebeca absorbed the tremendous energy of her husband. ', 'chunk_id': 254}, {'atom_fact': '2. The woman confided in her husband about Arcadio building a house.  3. The woman tried to feed her husband calabash syrup. ', 'chunk_id': 258}, {'atom_fact': '9. Úrsula informed her husband that Colonel Aureliano Buendía was captured. ', 'chunk_id': 270}, {'atom_fact': '2. She ran towards the chestnut tree to inform her husband that Aureliano was alive. ', 'chunk_id': 271}, {'atom_fact': \"3. Rebeca stays indifferent to her husband's logic and remains by the window. \", 'chunk_id': 285}, {'atom_fact': '5. Rebeca declared that when her husband went into the bedroom, she was locked in the bathroom and did not hear anything. ', 'chunk_id': 293}, {'atom_fact': \"3. Úrsula was sobbing at her husband's knees when Colonel Aureliano Buendía was brought in. \", 'chunk_id': 394}, {'atom_fact': \"7. Petra Cotes continued the business after her husband's death. \", 'chunk_id': 416}, {'atom_fact': '5. Fernanda confessed to Úrsula that she was waiting two weeks before having the first contact with her husband. ', 'chunk_id': 462}, {'atom_fact': \"1. Fernanda realized her husband had returned to Petra Cotes.  2. Fernanda's husband explained he returned to Petra Cotes for breeding animals.  3. Fernanda was convinced by proofs of her husband's strange expedient.  4. Fernanda demanded her husband not die in Petra Cotes's bed. \", 'chunk_id': 464}, {'atom_fact': '3. The husband decided to name their first son after his great-grandfather. ', 'chunk_id': 469}, {'atom_fact': '7. One morning, Úrsula was found weeping under the chestnut tree at the knees of her dead husband. ', 'chunk_id': 537}, {'atom_fact': '4. Fernanda realized she was a widow before her husband had died. ', 'chunk_id': 563}, {'atom_fact': '2. Fernanda thought her husband would return to the fold after seeing the trunks, unable to bear the shame. ', 'chunk_id': 564}, {'atom_fact': '4. Petra Cotes set about reconquering her husband. ', 'chunk_id': 608}, {'atom_fact': \"1. Fernanda's imagination was limited when her husband came to the house looking for his daughter. \", 'chunk_id': 632}, {'atom_fact': '1. The woman packed her bags without consulting her husband. ', 'chunk_id': 654}, {'atom_fact': '5. Fernanda remained unaffected by the uncertainty of the times due to her isolation after the altercation with her husband over Memes fate. ', 'chunk_id': 663}, {'atom_fact': '7. Fernanda believed that her husband was waiting for it to clear to return to his concubine. ', 'chunk_id': 706}, {'atom_fact': '6. She had seriously thought of putting on the tiger mask that her husband had worn in the bloody carnival. ', 'chunk_id': 707}, {'atom_fact': \"5. Fernanda's husband was lazy, idolatrous, and libertine.  7. Fernanda's husband lay on his back waiting for bread to rain down from heaven.  14. Fernanda's husband took her away from her paternal home against her will.  15. Fernanda's husband left her to have an affair with another woman. \", 'chunk_id': 719}, {'atom_fact': '10. Fernanda compared her husband to a sultan of Persia.  11. Fernanda accused her husband of being a slob, a sponge, and a good-for-nothing.  12. Fernanda thought her husband was softer than cotton batting.  13. Fernanda believed her husband was used to living off women.  14. Fernanda was convinced her husband had married Jonah’s wife. ', 'chunk_id': 721}, {'atom_fact': '4. The grandmother deduced that Fernanda was trying to get her husband back home by sticking pins into his picture. ', 'chunk_id': 780}, {'atom_fact': '14. One of the friends offered to pay Fernanda some money that he had owed her husband. ', 'chunk_id': 794}, {'atom_fact': \"4. It was said several times that Fernanda was her husband's mother, but it was so incredible that it took her longer to discover it than to forget it. \", 'chunk_id': 797}, {'atom_fact': '10. Amaranta Úrsula led her husband by a silk rope tied around his neck. ', 'chunk_id': 838}, {'atom_fact': \"4. The woman's husband had more than enough money to live anywhere in the world.  5. The woman's husband loved her so much that he let himself be led around by her on a silk leash. \", 'chunk_id': 843}, {'atom_fact': \"8. Gaston, Amaranta Úrsula's husband, took care not to antagonize her. \", 'chunk_id': 845}, {'atom_fact': '6. She respected the pact with her husband to wait five years after marriage before having children. ', 'chunk_id': 852}, {'atom_fact': '7. Amaranta Úrsula decided not to leave Macondo even if she lost a husband. ', 'chunk_id': 878}, {'atom_fact': '1. Amaranta Úrsula understood that her silence could awaken suspicions of her husband more than the sound of warfare.  4. Amaranta Úrsula and her husband became adversaries and accomplices at the same time.  6. The attacks between Amaranta Úrsula and her husband turned into caresses. ', 'chunk_id': 889}, {'atom_fact': \"4. Aureliano and Amaranta Úrsula took advantage of her husband's rare unguarded moments since the afternoon of their first love. \", 'chunk_id': 905}, {'atom_fact': '4. News about Gabriel became uncertain, and letters from the wise man were sporadic and melancholy, leading Aureliano to think about them like Amaranta Úrsula thought about her husband. ', 'chunk_id': 910}, {'atom_fact': '16. She thought she had given her husband a pretext to abandon her.  17. She believed her husband wanted to abandon her to her fate. ', 'chunk_id': 911}, {'atom_fact': \"2. Aureliano bore Amaranta Úrsula's spite patiently and showed he could be a good husband in adversity. \", 'chunk_id': 912}, {'atom_fact': '2. Amaranta Úrsula arrived at the house with a cage of luckless canaries and her captive husband. ', 'chunk_id': 918}, {'atom_fact': '8. The husband wanted to name the formidable male child Aureliano and believed he would win thirty-two wars. ', 'chunk_id': 921}, {'atom_fact': \"3. Úrsula anticipated José Arcadio Buendía's feverish designs and worked to predispose the women of the village against their husbands' flightiness.  4. The husbands of the village were preparing for the move orchestrated by José Arcadio Buendía. \", 'chunk_id': 28}]\u001b[0m\u001b[32;1m\u001b[1;3m\n",
      "Invoking: `read_node` with `{'node_name': 'son'}`\n",
      "\n",
      "\n",
      "\u001b[0mReading atomic facts for node: son\n",
      "\u001b[36;1m\u001b[1;3m[{'atom_fact': '6. Úrsula stated that they will not leave because they had a son there. ', 'chunk_id': 29}, {'atom_fact': \"3. The son of the aunt and uncle bled to death after living forty-two years in virginity with a cartilaginous tail.  4. The son had a pig’s tail in the shape of a corkscrew and a small tuft of hair on the tip.  5. The butcher friend chopped off the son's tail with a cleaver, costing him his life. \", 'chunk_id': 44}, {'atom_fact': \"7. Úrsula gave birth to a son after a fourteen-month absurd journey, with her stomach corrupted by monkey meat and snake stew.  8. Úrsula's son had all human features despite the hardships during her journey. \", 'chunk_id': 51}, {'atom_fact': '12. Úrsula spoke to the woman about her son. ', 'chunk_id': 55}, {'atom_fact': '7. José Arcadio Buendía asked his son what the mass looked like.  9. José Arcadio Buendía hit his son with the back of his hand. ', 'chunk_id': 64}, {'atom_fact': \"6. José Arcadio Buendía joyfully received his wandering son and introduced him to the search for the philosopher's stone. \", 'chunk_id': 70}, {'atom_fact': '7. Someone looking for beads among the trash told Úrsula that the night before he had seen her son in the tumult of the caravan pushing the snake-man’s cage on a cart. ', 'chunk_id': 76}, {'atom_fact': '1. José Arcadio Buendía and his son returned to the laboratory.  8. José Arcadio Buendía and his son observed the phenomena with startled excitement. ', 'chunk_id': 79}, {'atom_fact': \"12. José Arcadio Buendía and Úrsula listened stonily to their son's declaration in the parlor. \", 'chunk_id': 155}, {'atom_fact': \"1. Úrsula agreed with José Arcadio Buendía's choice for his son to marry the daughter of their enemy. \", 'chunk_id': 156}, {'atom_fact': '10. Amaranta adopted Aureliano José as a son. ', 'chunk_id': 199}, {'atom_fact': '1. Úrsula dared the murderer to kill her son.  2. Úrsula whipped her son mercilessly.  3. Úrsula chased her son, Arcadio, to the back of the courtyard. ', 'chunk_id': 236}, {'atom_fact': \"1. She heard her son's voice clearly in her ear while stirring sweet milk candy in the kitchen. \", 'chunk_id': 271}, {'atom_fact': '9. Úrsula shouted \"My son!\" in the midst of the uproar and slapped a soldier. ', 'chunk_id': 272}, {'atom_fact': '1. Ursula wanted to bring things to her son, Colonel Aureliano Buendía. ', 'chunk_id': 274}, {'atom_fact': '4. Úrsula felt inhibited by the maturity, command aura, and authority glow of her son. ', 'chunk_id': 276}, {'atom_fact': '4. She received Gerineldo Márquez as a son. ', 'chunk_id': 308}, {'atom_fact': '6. Úrsula recovered the fortune her son had spent in the war. ', 'chunk_id': 329}, {'atom_fact': '8. He heard an old man tell the tale of the man who married his aunt, who was also his cousin, and whose son ended up being his own grandfather. ', 'chunk_id': 332}, {'atom_fact': '2. The woman claimed that the boy was the son of Colonel Aureliano Buendía. ', 'chunk_id': 335}, {'atom_fact': '2. Pilar Ternera and Aureliano José were more than mother and son, they were accomplices in solitude. ', 'chunk_id': 340}, {'atom_fact': \"7. One of Pilar's sons died fighting in the forces of Colonel Aureliano Buendía.  8. The other son of Pilar was wounded and captured at the age of fourteen.  9. The other son of Pilar tried to steal a crate of chickens in a town in the swamp. \", 'chunk_id': 341}, {'atom_fact': '1. Úrsula had a gloomy feeling that her son was an intruder.  2. Úrsula saw her son come in protected by a noisy military retinue. ', 'chunk_id': 348}, {'atom_fact': '2. Someone had a son with whooping cough. ', 'chunk_id': 370}, {'atom_fact': '6. Úrsula spent the whole morning looking for a memory of her son in the hidden corners but found none. ', 'chunk_id': 389}, {'atom_fact': '8. Úrsula expressed determination when she saw that her son was going to live. ', 'chunk_id': 398}, {'atom_fact': '4. Úrsula once allowed herself the liberty of saying that her little great-great-grandson had his pontifical future assured because he was “the grandson of a saint and the son of a queen and a rustler.” ', 'chunk_id': 470}, {'atom_fact': '2. The son she was carrying was perceived as a man incapable of love.  3. José Arcadio Buendía was happy at the thought of his son becoming a ventriloquist after hearing him weep in her belly.  4. Other people predicted that the son would become a prophet.  5. She feared that the weeping of the son was an indication of a fearful pigtail and prayed for the child to die in her womb. ', 'chunk_id': 552}, {'atom_fact': '3. The lowering of the image of her son brought out all the compassion owed to him. ', 'chunk_id': 553}, {'atom_fact': \"5. Úrsula noticed her son's actions but couldn't prevent him from burning the dolls.  6. Úrsula accused her son of having a heart of stone. \", 'chunk_id': 575}, {'atom_fact': \"7. Meme Buendía's son was brought home, marking the beginning of events that would lead to Macondo's downfall. \", 'chunk_id': 651}, {'atom_fact': '8. Fernanda wrote a long letter to her son José Arcadio. ', 'chunk_id': 664}, {'atom_fact': '10. Santa Sofía de la Piedad thought of her son, José Arcadio Segundo. ', 'chunk_id': 674}, {'atom_fact': '2. She took her son to the chamberpot room. ', 'chunk_id': 688}, {'atom_fact': '4. Úrsula shouted goodbye to Gerineldo, her son. ', 'chunk_id': 712}, {'atom_fact': '3. She thought little Aureliano was her son the colonel when he was taken to see ice. ', 'chunk_id': 725}, {'atom_fact': \"8. Fernanda's son would not have a bad impression of the house. \", 'chunk_id': 745}, {'atom_fact': '6. Úrsula thought he was her son and told him it was time to start learning how to be a silversmith.  7. Úrsula confused him with her son due to a lapse in her reasoning caused by the hot wind after the deluge. ', 'chunk_id': 757}, {'atom_fact': '7. Fernanda confided in her son José Arcadio. ', 'chunk_id': 773}, {'atom_fact': '5. Her son had seen the Pope.  7. The news about her son seeing the Pope made her spirits rise. ', 'chunk_id': 807}, {'atom_fact': '11. Amaranta Úrsula believed that Aureliano was the son of Petra Cotes. ', 'chunk_id': 914}, {'atom_fact': '4. Úrsula pointed out to José to worry about their sons instead of his crazy inventions. ', 'chunk_id': 30}, {'atom_fact': '7. The husband was alien to the existence of his sons. ', 'chunk_id': 33}, {'atom_fact': '3. He was enthusiastic about educating his sons, especially Aureliano, who showed a talent for alchemy. ', 'chunk_id': 54}, {'atom_fact': '7. Almost all of the sons of the founders were implicated in the plot.  8. None of the sons knew concretely what action they were plotting. ', 'chunk_id': 224}, {'atom_fact': '3. Nine more sons of Colonel Aureliano Buendía were brought to the house for baptism.  5. The sons brought to the house were of various ages, colors, all male, and shared a look of solitude indicating their relationship. ', 'chunk_id': 336}, {'atom_fact': '9. The sons that the colonel had implanted were baptized with the name Aureliano and the last name of the mother.  11. Úrsula used to fill their pockets with money for the sons.  12. Amaranta tried to make the sons stay.  13. Úrsula and Amaranta served as godmothers to the sons. ', 'chunk_id': 337}, {'atom_fact': '3. Úrsula desired Colonel Aureliano Buendía to come back and gather all his sons in the house. ', 'chunk_id': 338}, {'atom_fact': '6. Pilar managed to raise two sons. ', 'chunk_id': 341}, {'atom_fact': '2. Adolescents he encountered seemed to have his own eyes, voice, and greeted him with mistrust, claiming to be his sons. ', 'chunk_id': 369}, {'atom_fact': '6. He married, as all sons do sooner or later. ', 'chunk_id': 448}, {'atom_fact': \"6. The seventeen men at the door were identified as Colonel Aureliano Buendía's sons. \", 'chunk_id': 476}, {'atom_fact': '5. The sons of Colonel Aureliano Buendía visited Macondo for the second time. ', 'chunk_id': 488}, {'atom_fact': '5. Sons justified their determination with a phrase about everyone coming. ', 'chunk_id': 510}, {'atom_fact': '1. Colonel Aureliano Buendía had sons.  2. The sons of Colonel Aureliano Buendía visited Macondo for the first time.  3. Úrsula realized that the sons shared the same blood as her great-granddaughter.  4. Úrsula warned her great-granddaughter about the sons, fearing that her children would have the tail of a pig if involved with them. ', 'chunk_id': 512}, {'atom_fact': '8. Colonel Aureliano Buendía had foreseen the tragic end of his sons in a certain way. ', 'chunk_id': 527}, {'atom_fact': '3. He accused Father Antonio Isabel of complicity for marking his sons with indelible ashes. ', 'chunk_id': 535}, {'atom_fact': '7. He had never loved anyone, including his wife Remedios, one-night women, and his sons. ', 'chunk_id': 551}, {'atom_fact': '5. They were sons of the same bitch. ', 'chunk_id': 674}, {'atom_fact': \"1. Aureliano Amador was the only survivor of Colonel Aureliano Buendía's seventeen sons. \", 'chunk_id': 836}, {'atom_fact': '4. She did not want sons named Aureliano and José Arcadio, or a daughter named Remedios. ', 'chunk_id': 850}]\u001b[0m\u001b[32;1m\u001b[1;3m\n",
      "Invoking: `read_node` with `{'node_name': 'inheritance'}`\n",
      "\n",
      "\n",
      "\u001b[0mReading atomic facts for node: inheritance\n",
      "\u001b[36;1m\u001b[1;3m[{'atom_fact': \"1. Úrsula's inheritance was reduced to a large piece of burnt hog cracklings. \", 'chunk_id': 15}, {'atom_fact': \"3. José Arcadio wanted to safeguard his fabulous inheritance mentioned in his mother's delirious letters. \", 'chunk_id': 821}, {'atom_fact': '2. Lizards and rats fought over the inheritance of the nearby church. ', 'chunk_id': 904}]\u001b[0m\u001b[32;1m\u001b[1;3m\n",
      "Invoking: `read_node` with `{'node_name': 'gold pieces'}`\n",
      "\n",
      "\n",
      "\u001b[0mReading atomic facts for node: gold pieces\n",
      "\u001b[36;1m\u001b[1;3m[{'atom_fact': '4. Úrsula took a trunk with her bridal clothes, a few household utensils, and a small chest with gold pieces inherited from her father when they left. ', 'chunk_id': 51}, {'atom_fact': '3. The people spent their last gold pieces for a quick flight over the village, taking advantage of the collective disorder. ', 'chunk_id': 69}]\u001b[0m\u001b[32;1m\u001b[1;3m\n",
      "Invoking: `read_node` with `{'node_name': 'chest of gold coins'}`\n",
      "\n",
      "\n",
      "\u001b[0mReading atomic facts for node: chest of gold coins\n",
      "\u001b[36;1m\u001b[1;3m[{'atom_fact': \"4. The money from the exchange was from a chest of gold coins that Úrsula's father had put together over a lifetime of privation.  5. Úrsula had buried the chest of gold coins underneath her bed in hopes of a proper occasion to use it. \", 'chunk_id': 4}]\u001b[0m"
     ]
    },
    {
     "name": "stderr",
     "output_type": "stream",
     "text": [
      "Error in StdOutCallbackHandler.on_chain_start callback: AttributeError(\"'NoneType' object has no attribute 'get'\")\n"
     ]
    },
    {
     "name": "stdout",
     "output_type": "stream",
     "text": [
      "\u001b[32;1m\u001b[1;3m[4, 51]\u001b[0m\n",
      "\n",
      "\u001b[1m> Finished chain.\u001b[0m\n",
      "\u001b[32;1m\u001b[1;3m\n",
      "Invoking: `read_chunk` with `{'chunk_id': 4}`\n",
      "\n",
      "\n",
      "\u001b[0mRetrieving chunk id: 4\n",
      "\u001b[36;1m\u001b[1;3mJosé \n",
      "Arcadio Buendía, who had still not been consoled for t he failure of big magnets, \n",
      "conceived the idea of using that invention as a weapon of war. Again Melquíades \n",
      "tried to dissuade him, but he finally accepted the two m agnetized ingots and three \n",
      "colonial coins in exchange for the magnifying glass. Úrsu la wept in consternation. \n",
      "That money was from a chest of gold coins that her fathe r had put together ova \n",
      "an entire life of privation and that she had buried underneath her bed in hopes of \n",
      "a proper occasion to make use of it. José Arcadio Buendía m ade no at. tempt to \n",
      "console her, completely absorbed in his tactical experiment s with the abnegation   of a scientist and even at the risk of his own life. In a n attempt to show the effects \n",
      "of the glass on enemy troops, he exposed himself to the concentration of the \n",
      "sun’s rays and suffered burns which turned into sores th at took a long time to \n",
      "heal.\u001b[0m\u001b[32;1m\u001b[1;3m\n",
      "Invoking: `read_chunk` with `{'chunk_id': 51}`\n",
      "\n",
      "\n",
      "\u001b[0mRetrieving chunk id: 51\n",
      "\u001b[36;1m\u001b[1;3mBefo re he left, José Arcadio \n",
      "Buendía buried the spear in the courtyard and, one aft er the other, he cut the \n",
      "throats of his magnificent fighting cocks, trusting that i n that way he could give \n",
      "some measure of peace to Prudencio Aguilar. All that Úrsula took along were a \n",
      "trunk with her bridal clothes, a few household utensil s, and the small chest with \n",
      "the gold pieces that she had inherited from her father . They did not lay out any \n",
      "definite itinerary. They simply tried to go in a direct ion opposite to the road to \n",
      "Riohacha so that they would not leave any trace or meet  any people they knew. It \n",
      "was an absurd journey. After fourteen months, her stoma ch corrupted by monkey \n",
      "meat and snake stew, Úrsula gave birth to a son who ha d all of his features \n",
      "human. She had traveled half of the trip in a hammock  that two men carried on \n",
      "their shoulders, because swelling had disfigured her leg s and her varicose veins \n",
      "had puffed up like bubbles.\u001b[0m\u001b[32;1m\u001b[1;3m\n",
      "Invoking: `write_notes` with `{'text': '- Ursula inherited a small chest with gold pieces from her father.\\n- The gold coins in the chest were put together by her father over an entire life of privation.\\n- Ursula had buried the chest of gold coins underneath her bed in hopes of a proper occasion to make use of it.\\n- Ursula took the trunk with her bridal clothes, a few household utensils, and the small chest with the gold pieces when she left with her husband.'}`\n",
      "\n",
      "\n",
      "\u001b[0m\u001b[36;1m\u001b[1;3mNone\u001b[0m\u001b[32;1m\u001b[1;3mUrsula inherited a small chest with gold pieces from her father. The gold coins in the chest were accumulated by her father over an entire life of privation. Ursula had buried the chest of gold coins underneath her bed in hopes of a proper occasion to make use of it. Additionally, when she left with her husband, she took the trunk with her bridal clothes, a few household utensils, and the small chest with the gold pieces.\u001b[0m\n",
      "\n",
      "\u001b[1m> Finished chain.\u001b[0m\n"
     ]
    },
    {
     "data": {
      "text/plain": [
       "'Ursula inherited a small chest with gold pieces from her father. The gold coins in the chest were accumulated by her father over an entire life of privation. Ursula had buried the chest of gold coins underneath her bed in hopes of a proper occasion to make use of it. Additionally, when she left with her husband, she took the trunk with her bridal clothes, a few household utensils, and the small chest with the gold pieces.'"
      ]
     },
     "execution_count": 155,
     "metadata": {},
     "output_type": "execute_result"
    }
   ],
   "source": [
    "user_query = input(prompt='Enter your query')\n",
    "g_reader.get_response(query=user_query)"
   ]
  },
  {
   "cell_type": "code",
   "execution_count": null,
   "metadata": {},
   "outputs": [],
   "source": []
  }
 ],
 "metadata": {
  "kernelspec": {
   "display_name": "graphreader",
   "language": "python",
   "name": "python3"
  },
  "language_info": {
   "codemirror_mode": {
    "name": "ipython",
    "version": 3
   },
   "file_extension": ".py",
   "mimetype": "text/x-python",
   "name": "python",
   "nbconvert_exporter": "python",
   "pygments_lexer": "ipython3",
   "version": "3.12.7"
  }
 },
 "nbformat": 4,
 "nbformat_minor": 2
}
